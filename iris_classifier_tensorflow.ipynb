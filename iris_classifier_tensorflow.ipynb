{
  "nbformat": 4,
  "nbformat_minor": 0,
  "metadata": {
    "colab": {
      "name": "iris-classifier-tensorflow.ipynb",
      "version": "0.3.2",
      "provenance": [],
      "collapsed_sections": [],
      "include_colab_link": true
    },
    "kernelspec": {
      "name": "python3",
      "display_name": "Python 3"
    },
    "accelerator": "TPU"
  },
  "cells": [
    {
      "cell_type": "markdown",
      "metadata": {
        "id": "view-in-github",
        "colab_type": "text"
      },
      "source": [
        "<a href=\"https://colab.research.google.com/github/victorsergio/iris-classifier-tensorflow/blob/master/iris_classifier_tensorflow.ipynb\" target=\"_parent\"><img src=\"https://colab.research.google.com/assets/colab-badge.svg\" alt=\"Open In Colab\"/></a>"
      ]
    },
    {
      "cell_type": "markdown",
      "metadata": {
        "id": "DikXU_mB91kR",
        "colab_type": "text"
      },
      "source": [
        "### Código para la clasificación de 3 clases utilizando el dataset Iris, con TensorFlow. Este código utiliza como base código de los ejemplos mostrados en el Google Machine Learning Crash Course.  https://developers.google.com/machine-learning/crash-course/exercises?hl=es-419\n"
      ]
    },
    {
      "cell_type": "markdown",
      "metadata": {
        "id": "DwFodXpIXD1u",
        "colab_type": "text"
      },
      "source": [
        "## Importar librerías\n",
        "\n",
        "1. Importe las librerías necesarias para utilizar matplotlib, numpy, pandas, sklearn y tensorflow. \n",
        "\n",
        "   *  *tensorflow as tf*\n",
        "   *  *seaborn as sns*\n",
        "   *  *pandas as pd*\n",
        "   *  *numpy as np*\n",
        "   *  *matplotlib pyplot as plt*\n",
        "   *  *sklearn metrics*\n",
        "\n",
        "\n",
        "\n",
        "\n",
        "\n",
        "\n",
        "\n",
        "\n",
        "\n"
      ]
    },
    {
      "cell_type": "code",
      "metadata": {
        "id": "yZPmaml9tuEt",
        "colab_type": "code",
        "colab": {}
      },
      "source": [
        "from __future__ import print_function\n",
        "\n",
        "import glob\n",
        "import math\n",
        "import os\n",
        "\n",
        "from IPython import display\n",
        "from matplotlib import cm\n",
        "from matplotlib import gridspec\n",
        "from matplotlib import pyplot as plt\n",
        "import numpy as np\n",
        "import pandas as pd\n",
        "import seaborn as sns\n",
        "from sklearn import metrics\n",
        "import tensorflow as tf\n",
        "from tensorflow.python.data import Dataset\n",
        "from sklearn.preprocessing import LabelEncoder\n",
        "\n",
        "\n",
        "tf.logging.set_verbosity(tf.logging.ERROR)\n",
        "pd.options.display.max_rows = 10\n",
        "pd.options.display.float_format = '{:.1f}'.format"
      ],
      "execution_count": 0,
      "outputs": []
    },
    {
      "cell_type": "markdown",
      "metadata": {
        "id": "pNuz-2lyXZtZ",
        "colab_type": "text"
      },
      "source": [
        "## Leer el archivo de datos, agregar nombres de columnas y aleatorizar\n",
        "\n",
        "1. Lea el archivo de datos del repositorio https://archive.ics.uci.edu/ml/machine-learning-databases/iris/iris.data, colóquelo en *iris_dataframe* como un pandas dataframe.\n",
        "\n",
        "2. El archivo de datos no incluye los nombres de las columnas. \n",
        "Debe agregar los nombres correspondientes a las columnas del pandas dataframe. * sepal_lenght, sepal_width, petal_length, petal_widh, class.*\n",
        "\n",
        "3. Recuerde aleatorizar el orden de las filas del dataframe.\n",
        "\n",
        "4. Muestre las primeras 5 filas del dataframe.\n",
        "\n"
      ]
    },
    {
      "cell_type": "code",
      "metadata": {
        "id": "WiEeI4fz30he",
        "colab_type": "code",
        "outputId": "dc43d7cc-2e08-4dd2-df28-4d64ebf1ca7e",
        "colab": {
          "base_uri": "https://localhost:8080/",
          "height": 204
        }
      },
      "source": [
        "iris_dataframe = pd.read_csv(\"https://archive.ics.uci.edu/ml/machine-learning-databases/iris/iris.data\",sep=\",\",header=None)\n",
        "\n",
        "iris_dataframe.columns = [\"sepal_length\",\"sepal_width\",\"petal_length\",\"petal_width\",\"class\"]\n",
        "\n",
        "iris_dataframe = iris_dataframe.reindex(np.random.permutation(iris_dataframe.index))\n",
        "\n",
        "iris_dataframe.head()\n",
        "\n"
      ],
      "execution_count": 0,
      "outputs": [
        {
          "output_type": "execute_result",
          "data": {
            "text/html": [
              "<div>\n",
              "<style scoped>\n",
              "    .dataframe tbody tr th:only-of-type {\n",
              "        vertical-align: middle;\n",
              "    }\n",
              "\n",
              "    .dataframe tbody tr th {\n",
              "        vertical-align: top;\n",
              "    }\n",
              "\n",
              "    .dataframe thead th {\n",
              "        text-align: right;\n",
              "    }\n",
              "</style>\n",
              "<table border=\"1\" class=\"dataframe\">\n",
              "  <thead>\n",
              "    <tr style=\"text-align: right;\">\n",
              "      <th></th>\n",
              "      <th>sepal_length</th>\n",
              "      <th>sepal_width</th>\n",
              "      <th>petal_length</th>\n",
              "      <th>petal_width</th>\n",
              "      <th>class</th>\n",
              "    </tr>\n",
              "  </thead>\n",
              "  <tbody>\n",
              "    <tr>\n",
              "      <th>117</th>\n",
              "      <td>7.7</td>\n",
              "      <td>3.8</td>\n",
              "      <td>6.7</td>\n",
              "      <td>2.2</td>\n",
              "      <td>Iris-virginica</td>\n",
              "    </tr>\n",
              "    <tr>\n",
              "      <th>92</th>\n",
              "      <td>5.8</td>\n",
              "      <td>2.6</td>\n",
              "      <td>4.0</td>\n",
              "      <td>1.2</td>\n",
              "      <td>Iris-versicolor</td>\n",
              "    </tr>\n",
              "    <tr>\n",
              "      <th>72</th>\n",
              "      <td>6.3</td>\n",
              "      <td>2.5</td>\n",
              "      <td>4.9</td>\n",
              "      <td>1.5</td>\n",
              "      <td>Iris-versicolor</td>\n",
              "    </tr>\n",
              "    <tr>\n",
              "      <th>124</th>\n",
              "      <td>6.7</td>\n",
              "      <td>3.3</td>\n",
              "      <td>5.7</td>\n",
              "      <td>2.1</td>\n",
              "      <td>Iris-virginica</td>\n",
              "    </tr>\n",
              "    <tr>\n",
              "      <th>130</th>\n",
              "      <td>7.4</td>\n",
              "      <td>2.8</td>\n",
              "      <td>6.1</td>\n",
              "      <td>1.9</td>\n",
              "      <td>Iris-virginica</td>\n",
              "    </tr>\n",
              "  </tbody>\n",
              "</table>\n",
              "</div>"
            ],
            "text/plain": [
              "     sepal_length  sepal_width  petal_length  petal_width            class\n",
              "117           7.7          3.8           6.7          2.2   Iris-virginica\n",
              "92            5.8          2.6           4.0          1.2  Iris-versicolor\n",
              "72            6.3          2.5           4.9          1.5  Iris-versicolor\n",
              "124           6.7          3.3           5.7          2.1   Iris-virginica\n",
              "130           7.4          2.8           6.1          1.9   Iris-virginica"
            ]
          },
          "metadata": {
            "tags": []
          },
          "execution_count": 2
        }
      ]
    },
    {
      "cell_type": "markdown",
      "metadata": {
        "id": "803f6tEak8HQ",
        "colab_type": "text"
      },
      "source": [
        "## Número de filas en el dataframe\n",
        "1. Muestre un sumario del dataframe y observe que el dataframe contiene 150 ejemplos.\n"
      ]
    },
    {
      "cell_type": "code",
      "metadata": {
        "id": "m40PW6iwnTiX",
        "colab_type": "code",
        "outputId": "4549624e-ac80-457d-d5cb-0591e131df7b",
        "colab": {
          "base_uri": "https://localhost:8080/",
          "height": 297
        }
      },
      "source": [
        "iris_dataframe.describe()"
      ],
      "execution_count": 0,
      "outputs": [
        {
          "output_type": "execute_result",
          "data": {
            "text/html": [
              "<div>\n",
              "<style scoped>\n",
              "    .dataframe tbody tr th:only-of-type {\n",
              "        vertical-align: middle;\n",
              "    }\n",
              "\n",
              "    .dataframe tbody tr th {\n",
              "        vertical-align: top;\n",
              "    }\n",
              "\n",
              "    .dataframe thead th {\n",
              "        text-align: right;\n",
              "    }\n",
              "</style>\n",
              "<table border=\"1\" class=\"dataframe\">\n",
              "  <thead>\n",
              "    <tr style=\"text-align: right;\">\n",
              "      <th></th>\n",
              "      <th>sepal_length</th>\n",
              "      <th>sepal_width</th>\n",
              "      <th>petal_length</th>\n",
              "      <th>petal_width</th>\n",
              "    </tr>\n",
              "  </thead>\n",
              "  <tbody>\n",
              "    <tr>\n",
              "      <th>count</th>\n",
              "      <td>150.0</td>\n",
              "      <td>150.0</td>\n",
              "      <td>150.0</td>\n",
              "      <td>150.0</td>\n",
              "    </tr>\n",
              "    <tr>\n",
              "      <th>mean</th>\n",
              "      <td>5.8</td>\n",
              "      <td>3.1</td>\n",
              "      <td>3.8</td>\n",
              "      <td>1.2</td>\n",
              "    </tr>\n",
              "    <tr>\n",
              "      <th>std</th>\n",
              "      <td>0.8</td>\n",
              "      <td>0.4</td>\n",
              "      <td>1.8</td>\n",
              "      <td>0.8</td>\n",
              "    </tr>\n",
              "    <tr>\n",
              "      <th>min</th>\n",
              "      <td>4.3</td>\n",
              "      <td>2.0</td>\n",
              "      <td>1.0</td>\n",
              "      <td>0.1</td>\n",
              "    </tr>\n",
              "    <tr>\n",
              "      <th>25%</th>\n",
              "      <td>5.1</td>\n",
              "      <td>2.8</td>\n",
              "      <td>1.6</td>\n",
              "      <td>0.3</td>\n",
              "    </tr>\n",
              "    <tr>\n",
              "      <th>50%</th>\n",
              "      <td>5.8</td>\n",
              "      <td>3.0</td>\n",
              "      <td>4.3</td>\n",
              "      <td>1.3</td>\n",
              "    </tr>\n",
              "    <tr>\n",
              "      <th>75%</th>\n",
              "      <td>6.4</td>\n",
              "      <td>3.3</td>\n",
              "      <td>5.1</td>\n",
              "      <td>1.8</td>\n",
              "    </tr>\n",
              "    <tr>\n",
              "      <th>max</th>\n",
              "      <td>7.9</td>\n",
              "      <td>4.4</td>\n",
              "      <td>6.9</td>\n",
              "      <td>2.5</td>\n",
              "    </tr>\n",
              "  </tbody>\n",
              "</table>\n",
              "</div>"
            ],
            "text/plain": [
              "       sepal_length  sepal_width  petal_length  petal_width\n",
              "count         150.0        150.0         150.0        150.0\n",
              "mean            5.8          3.1           3.8          1.2\n",
              "std             0.8          0.4           1.8          0.8\n",
              "min             4.3          2.0           1.0          0.1\n",
              "25%             5.1          2.8           1.6          0.3\n",
              "50%             5.8          3.0           4.3          1.3\n",
              "75%             6.4          3.3           5.1          1.8\n",
              "max             7.9          4.4           6.9          2.5"
            ]
          },
          "metadata": {
            "tags": []
          },
          "execution_count": 3
        }
      ]
    },
    {
      "cell_type": "markdown",
      "metadata": {
        "id": "87T4bNmFJPrK",
        "colab_type": "text"
      },
      "source": [
        "## Label categórico\n",
        "\n",
        "Observe que la columna *class* tiene atributos categóricos, para hacer la predicción de las etiquetas debe codificarlas con valores numéricos.\n",
        "\n",
        "Para este ejercicio utilizaremos una codificación numérica simple, asignando un entero entre 0 y el número de clases -1.\n",
        "\n",
        "Para esta tarea use la clase LabelEncoder de Sklearn\n",
        "\n",
        "https://scikit-learn.org/stable/modules/generated/sklearn.preprocessing.LabelEncoder.html\n",
        "\n",
        "1. Agregue una columna adicional al dataframe llamada *class_encoded* que contenga un numero entero que mapee cada clase de la columna *class*\n",
        "\n",
        "2. Muestre los primeros 5 ejemplos del dataframe\n",
        "\n"
      ]
    },
    {
      "cell_type": "code",
      "metadata": {
        "id": "1BpRIztfX7RT",
        "colab_type": "code",
        "outputId": "b048de50-ec7f-4ec6-ebbe-2c95ea3638da",
        "colab": {
          "base_uri": "https://localhost:8080/",
          "height": 204
        }
      },
      "source": [
        "\n",
        "label_encoder = LabelEncoder()\n",
        "iris_dataframe['class_encoded'] = label_encoder.fit_transform(iris_dataframe['class'])\n",
        "\n",
        "iris_dataframe.head()\n",
        "\n",
        "\n"
      ],
      "execution_count": 0,
      "outputs": [
        {
          "output_type": "execute_result",
          "data": {
            "text/html": [
              "<div>\n",
              "<style scoped>\n",
              "    .dataframe tbody tr th:only-of-type {\n",
              "        vertical-align: middle;\n",
              "    }\n",
              "\n",
              "    .dataframe tbody tr th {\n",
              "        vertical-align: top;\n",
              "    }\n",
              "\n",
              "    .dataframe thead th {\n",
              "        text-align: right;\n",
              "    }\n",
              "</style>\n",
              "<table border=\"1\" class=\"dataframe\">\n",
              "  <thead>\n",
              "    <tr style=\"text-align: right;\">\n",
              "      <th></th>\n",
              "      <th>sepal_length</th>\n",
              "      <th>sepal_width</th>\n",
              "      <th>petal_length</th>\n",
              "      <th>petal_width</th>\n",
              "      <th>class</th>\n",
              "      <th>class_encoded</th>\n",
              "    </tr>\n",
              "  </thead>\n",
              "  <tbody>\n",
              "    <tr>\n",
              "      <th>117</th>\n",
              "      <td>7.7</td>\n",
              "      <td>3.8</td>\n",
              "      <td>6.7</td>\n",
              "      <td>2.2</td>\n",
              "      <td>Iris-virginica</td>\n",
              "      <td>2</td>\n",
              "    </tr>\n",
              "    <tr>\n",
              "      <th>92</th>\n",
              "      <td>5.8</td>\n",
              "      <td>2.6</td>\n",
              "      <td>4.0</td>\n",
              "      <td>1.2</td>\n",
              "      <td>Iris-versicolor</td>\n",
              "      <td>1</td>\n",
              "    </tr>\n",
              "    <tr>\n",
              "      <th>72</th>\n",
              "      <td>6.3</td>\n",
              "      <td>2.5</td>\n",
              "      <td>4.9</td>\n",
              "      <td>1.5</td>\n",
              "      <td>Iris-versicolor</td>\n",
              "      <td>1</td>\n",
              "    </tr>\n",
              "    <tr>\n",
              "      <th>124</th>\n",
              "      <td>6.7</td>\n",
              "      <td>3.3</td>\n",
              "      <td>5.7</td>\n",
              "      <td>2.1</td>\n",
              "      <td>Iris-virginica</td>\n",
              "      <td>2</td>\n",
              "    </tr>\n",
              "    <tr>\n",
              "      <th>130</th>\n",
              "      <td>7.4</td>\n",
              "      <td>2.8</td>\n",
              "      <td>6.1</td>\n",
              "      <td>1.9</td>\n",
              "      <td>Iris-virginica</td>\n",
              "      <td>2</td>\n",
              "    </tr>\n",
              "  </tbody>\n",
              "</table>\n",
              "</div>"
            ],
            "text/plain": [
              "     sepal_length  sepal_width  ...            class  class_encoded\n",
              "117           7.7          3.8  ...   Iris-virginica              2\n",
              "92            5.8          2.6  ...  Iris-versicolor              1\n",
              "72            6.3          2.5  ...  Iris-versicolor              1\n",
              "124           6.7          3.3  ...   Iris-virginica              2\n",
              "130           7.4          2.8  ...   Iris-virginica              2\n",
              "\n",
              "[5 rows x 6 columns]"
            ]
          },
          "metadata": {
            "tags": []
          },
          "execution_count": 4
        }
      ]
    },
    {
      "cell_type": "markdown",
      "metadata": {
        "id": "TbB8wIeYL-Wf",
        "colab_type": "text"
      },
      "source": [
        "## Normalización, Min-Max scaling\n",
        "\n",
        "Cree una función que reciba una característica y devuelva la misma columna con todos los valores normalizados\n",
        "\n",
        "\n",
        "1. Escriba el código que normaliza una feature con Min-Max scaling. https://sebastianraschka.com/Articles/2014_about_feature_scaling.html\n",
        "\n",
        "2. Envíe las primeras 4 columnas (features) a la función feature_normalization(feature) para que sean normalizadas.\n",
        "\n",
        "\n",
        "\n"
      ]
    },
    {
      "cell_type": "code",
      "metadata": {
        "id": "62mmIoaVansS",
        "colab_type": "code",
        "colab": {}
      },
      "source": [
        "\n",
        "def feature_normalization(feature):\n",
        "\n",
        "# feature normalization\n",
        "  feature = ((feature-feature.min())/(feature.max()-feature.min()))\n",
        "  return feature\n",
        "  \n",
        "\n",
        "for col in iris_dataframe.columns[0:4]:\n",
        "  iris_dataframe[col] = feature_normalization(iris_dataframe[col])\n",
        "\n"
      ],
      "execution_count": 0,
      "outputs": []
    },
    {
      "cell_type": "markdown",
      "metadata": {
        "id": "A1Cn7W0ONrgA",
        "colab_type": "text"
      },
      "source": [
        "3. muestre un sumario del dataframe y observe que los valores máximos de cada feature deben ser 1.0 y los valores mínimos 0.0 esto nos indica que las features fueron normalizadas correctamente."
      ]
    },
    {
      "cell_type": "code",
      "metadata": {
        "id": "ViF-vEMKrItz",
        "colab_type": "code",
        "outputId": "bbb13ff7-de8e-4a1c-8423-094248688e74",
        "colab": {
          "base_uri": "https://localhost:8080/",
          "height": 297
        }
      },
      "source": [
        "iris_dataframe.describe()"
      ],
      "execution_count": 0,
      "outputs": [
        {
          "output_type": "execute_result",
          "data": {
            "text/html": [
              "<div>\n",
              "<style scoped>\n",
              "    .dataframe tbody tr th:only-of-type {\n",
              "        vertical-align: middle;\n",
              "    }\n",
              "\n",
              "    .dataframe tbody tr th {\n",
              "        vertical-align: top;\n",
              "    }\n",
              "\n",
              "    .dataframe thead th {\n",
              "        text-align: right;\n",
              "    }\n",
              "</style>\n",
              "<table border=\"1\" class=\"dataframe\">\n",
              "  <thead>\n",
              "    <tr style=\"text-align: right;\">\n",
              "      <th></th>\n",
              "      <th>sepal_length</th>\n",
              "      <th>sepal_width</th>\n",
              "      <th>petal_length</th>\n",
              "      <th>petal_width</th>\n",
              "      <th>class_encoded</th>\n",
              "    </tr>\n",
              "  </thead>\n",
              "  <tbody>\n",
              "    <tr>\n",
              "      <th>count</th>\n",
              "      <td>150.0</td>\n",
              "      <td>150.0</td>\n",
              "      <td>150.0</td>\n",
              "      <td>150.0</td>\n",
              "      <td>150.0</td>\n",
              "    </tr>\n",
              "    <tr>\n",
              "      <th>mean</th>\n",
              "      <td>0.4</td>\n",
              "      <td>0.4</td>\n",
              "      <td>0.5</td>\n",
              "      <td>0.5</td>\n",
              "      <td>1.0</td>\n",
              "    </tr>\n",
              "    <tr>\n",
              "      <th>std</th>\n",
              "      <td>0.2</td>\n",
              "      <td>0.2</td>\n",
              "      <td>0.3</td>\n",
              "      <td>0.3</td>\n",
              "      <td>0.8</td>\n",
              "    </tr>\n",
              "    <tr>\n",
              "      <th>min</th>\n",
              "      <td>0.0</td>\n",
              "      <td>0.0</td>\n",
              "      <td>0.0</td>\n",
              "      <td>0.0</td>\n",
              "      <td>0.0</td>\n",
              "    </tr>\n",
              "    <tr>\n",
              "      <th>25%</th>\n",
              "      <td>0.2</td>\n",
              "      <td>0.3</td>\n",
              "      <td>0.1</td>\n",
              "      <td>0.1</td>\n",
              "      <td>0.0</td>\n",
              "    </tr>\n",
              "    <tr>\n",
              "      <th>50%</th>\n",
              "      <td>0.4</td>\n",
              "      <td>0.4</td>\n",
              "      <td>0.6</td>\n",
              "      <td>0.5</td>\n",
              "      <td>1.0</td>\n",
              "    </tr>\n",
              "    <tr>\n",
              "      <th>75%</th>\n",
              "      <td>0.6</td>\n",
              "      <td>0.5</td>\n",
              "      <td>0.7</td>\n",
              "      <td>0.7</td>\n",
              "      <td>2.0</td>\n",
              "    </tr>\n",
              "    <tr>\n",
              "      <th>max</th>\n",
              "      <td>1.0</td>\n",
              "      <td>1.0</td>\n",
              "      <td>1.0</td>\n",
              "      <td>1.0</td>\n",
              "      <td>2.0</td>\n",
              "    </tr>\n",
              "  </tbody>\n",
              "</table>\n",
              "</div>"
            ],
            "text/plain": [
              "       sepal_length  sepal_width  petal_length  petal_width  class_encoded\n",
              "count         150.0        150.0         150.0        150.0          150.0\n",
              "mean            0.4          0.4           0.5          0.5            1.0\n",
              "std             0.2          0.2           0.3          0.3            0.8\n",
              "min             0.0          0.0           0.0          0.0            0.0\n",
              "25%             0.2          0.3           0.1          0.1            0.0\n",
              "50%             0.4          0.4           0.6          0.5            1.0\n",
              "75%             0.6          0.5           0.7          0.7            2.0\n",
              "max             1.0          1.0           1.0          1.0            2.0"
            ]
          },
          "metadata": {
            "tags": []
          },
          "execution_count": 6
        }
      ]
    },
    {
      "cell_type": "markdown",
      "metadata": {
        "id": "x6WJ098oOQIf",
        "colab_type": "text"
      },
      "source": [
        "## Labes and Features\n",
        "\n",
        "Esta función devuelve dos objetos, una serie de pandas con las etiquetas, y un dataframe con las 4 características.\n",
        "\n",
        "1. complete el código para que *labels* contenga las etiquetas codificadas.\n",
        "2. complete el código para que features contenga las un dataframe con las 4 etiquetas. https://pandas.pydata.org/pandas-docs/stable/reference/api/pandas.DataFrame.loc.html\n"
      ]
    },
    {
      "cell_type": "code",
      "metadata": {
        "id": "3sARbf0p31SG",
        "colab_type": "code",
        "colab": {}
      },
      "source": [
        "def parse_labels_and_features(dataset):\n",
        "  \"\"\"Extracts labels and features. \n",
        "  Args:\n",
        "    dataset: A Pandas `Dataframe`, containing the label on the fourth column, the encoded label on fifth column and\n",
        "    sepal length,sepal width,petal length and petal width\n",
        "      cm values on the 0 to 3 columns\n",
        "  Returns:\n",
        "    A `tuple` `(labels, features)`:\n",
        "      labels: A Pandas `Series`.\n",
        "      features: A Pandas `DataFrame`.\n",
        "  \"\"\"\n",
        "  labels = dataset['class_encoded']\n",
        "  \n",
        "  features = dataset.loc[:,'sepal_length':'petal_width']\n",
        "  \n",
        "  return labels, features"
      ],
      "execution_count": 0,
      "outputs": []
    },
    {
      "cell_type": "markdown",
      "metadata": {
        "id": "sJftx1SiPI68",
        "colab_type": "text"
      },
      "source": [
        "## Training, validation and test set\n",
        "\n",
        "debe crear la separación para cada uno de los sets, tomando un porcentaje de ejemplos adecuado para cada uno. \n",
        "\n",
        "1. Utilice la función parse_labels_and_features(dataset), para crear el conjunto de entrenamiento, con sus respectivas etiquetas y ejemplos.\n",
        "\n",
        "2. Muestre un sumario para observar la cantidad de ejemplos de entrenamiento.\n"
      ]
    },
    {
      "cell_type": "code",
      "metadata": {
        "id": "sggtq1uiBfgs",
        "colab_type": "code",
        "outputId": "5c70060e-6d3e-459f-82d9-25a40496eabb",
        "colab": {
          "base_uri": "https://localhost:8080/",
          "height": 297
        }
      },
      "source": [
        "training_targets, training_examples = parse_labels_and_features(iris_dataframe[0:90])\n",
        "training_examples.describe()\n",
        "\n"
      ],
      "execution_count": 0,
      "outputs": [
        {
          "output_type": "execute_result",
          "data": {
            "text/html": [
              "<div>\n",
              "<style scoped>\n",
              "    .dataframe tbody tr th:only-of-type {\n",
              "        vertical-align: middle;\n",
              "    }\n",
              "\n",
              "    .dataframe tbody tr th {\n",
              "        vertical-align: top;\n",
              "    }\n",
              "\n",
              "    .dataframe thead th {\n",
              "        text-align: right;\n",
              "    }\n",
              "</style>\n",
              "<table border=\"1\" class=\"dataframe\">\n",
              "  <thead>\n",
              "    <tr style=\"text-align: right;\">\n",
              "      <th></th>\n",
              "      <th>sepal_length</th>\n",
              "      <th>sepal_width</th>\n",
              "      <th>petal_length</th>\n",
              "      <th>petal_width</th>\n",
              "    </tr>\n",
              "  </thead>\n",
              "  <tbody>\n",
              "    <tr>\n",
              "      <th>count</th>\n",
              "      <td>90.0</td>\n",
              "      <td>90.0</td>\n",
              "      <td>90.0</td>\n",
              "      <td>90.0</td>\n",
              "    </tr>\n",
              "    <tr>\n",
              "      <th>mean</th>\n",
              "      <td>0.4</td>\n",
              "      <td>0.4</td>\n",
              "      <td>0.5</td>\n",
              "      <td>0.5</td>\n",
              "    </tr>\n",
              "    <tr>\n",
              "      <th>std</th>\n",
              "      <td>0.2</td>\n",
              "      <td>0.2</td>\n",
              "      <td>0.3</td>\n",
              "      <td>0.3</td>\n",
              "    </tr>\n",
              "    <tr>\n",
              "      <th>min</th>\n",
              "      <td>0.0</td>\n",
              "      <td>0.0</td>\n",
              "      <td>0.0</td>\n",
              "      <td>0.0</td>\n",
              "    </tr>\n",
              "    <tr>\n",
              "      <th>25%</th>\n",
              "      <td>0.3</td>\n",
              "      <td>0.3</td>\n",
              "      <td>0.1</td>\n",
              "      <td>0.1</td>\n",
              "    </tr>\n",
              "    <tr>\n",
              "      <th>50%</th>\n",
              "      <td>0.4</td>\n",
              "      <td>0.4</td>\n",
              "      <td>0.5</td>\n",
              "      <td>0.5</td>\n",
              "    </tr>\n",
              "    <tr>\n",
              "      <th>75%</th>\n",
              "      <td>0.6</td>\n",
              "      <td>0.6</td>\n",
              "      <td>0.7</td>\n",
              "      <td>0.7</td>\n",
              "    </tr>\n",
              "    <tr>\n",
              "      <th>max</th>\n",
              "      <td>0.9</td>\n",
              "      <td>1.0</td>\n",
              "      <td>1.0</td>\n",
              "      <td>1.0</td>\n",
              "    </tr>\n",
              "  </tbody>\n",
              "</table>\n",
              "</div>"
            ],
            "text/plain": [
              "       sepal_length  sepal_width  petal_length  petal_width\n",
              "count          90.0         90.0          90.0         90.0\n",
              "mean            0.4          0.4           0.5          0.5\n",
              "std             0.2          0.2           0.3          0.3\n",
              "min             0.0          0.0           0.0          0.0\n",
              "25%             0.3          0.3           0.1          0.1\n",
              "50%             0.4          0.4           0.5          0.5\n",
              "75%             0.6          0.6           0.7          0.7\n",
              "max             0.9          1.0           1.0          1.0"
            ]
          },
          "metadata": {
            "tags": []
          },
          "execution_count": 8
        }
      ]
    },
    {
      "cell_type": "markdown",
      "metadata": {
        "id": "tj1-3d8kP69F",
        "colab_type": "text"
      },
      "source": [
        "3. Utilice la función parse_labels_and_features(dataset), para crear el conjunto de validación, con sus respectivas etiquetas y ejemplos.\n",
        "\n",
        "4. Muestre un sumario para observar la cantidad de ejemplos de validación.\n"
      ]
    },
    {
      "cell_type": "code",
      "metadata": {
        "id": "eUsekQ7uCepu",
        "colab_type": "code",
        "outputId": "5e3254bd-ab10-4c94-c4c4-68ba31a2016a",
        "colab": {
          "base_uri": "https://localhost:8080/",
          "height": 297
        }
      },
      "source": [
        "validation_targets, validation_examples = parse_labels_and_features(iris_dataframe[90:120])\n",
        "validation_examples.describe()\n",
        "\n"
      ],
      "execution_count": 0,
      "outputs": [
        {
          "output_type": "execute_result",
          "data": {
            "text/html": [
              "<div>\n",
              "<style scoped>\n",
              "    .dataframe tbody tr th:only-of-type {\n",
              "        vertical-align: middle;\n",
              "    }\n",
              "\n",
              "    .dataframe tbody tr th {\n",
              "        vertical-align: top;\n",
              "    }\n",
              "\n",
              "    .dataframe thead th {\n",
              "        text-align: right;\n",
              "    }\n",
              "</style>\n",
              "<table border=\"1\" class=\"dataframe\">\n",
              "  <thead>\n",
              "    <tr style=\"text-align: right;\">\n",
              "      <th></th>\n",
              "      <th>sepal_length</th>\n",
              "      <th>sepal_width</th>\n",
              "      <th>petal_length</th>\n",
              "      <th>petal_width</th>\n",
              "    </tr>\n",
              "  </thead>\n",
              "  <tbody>\n",
              "    <tr>\n",
              "      <th>count</th>\n",
              "      <td>30.0</td>\n",
              "      <td>30.0</td>\n",
              "      <td>30.0</td>\n",
              "      <td>30.0</td>\n",
              "    </tr>\n",
              "    <tr>\n",
              "      <th>mean</th>\n",
              "      <td>0.4</td>\n",
              "      <td>0.4</td>\n",
              "      <td>0.5</td>\n",
              "      <td>0.5</td>\n",
              "    </tr>\n",
              "    <tr>\n",
              "      <th>std</th>\n",
              "      <td>0.2</td>\n",
              "      <td>0.1</td>\n",
              "      <td>0.3</td>\n",
              "      <td>0.3</td>\n",
              "    </tr>\n",
              "    <tr>\n",
              "      <th>min</th>\n",
              "      <td>0.0</td>\n",
              "      <td>0.1</td>\n",
              "      <td>0.0</td>\n",
              "      <td>0.0</td>\n",
              "    </tr>\n",
              "    <tr>\n",
              "      <th>25%</th>\n",
              "      <td>0.2</td>\n",
              "      <td>0.3</td>\n",
              "      <td>0.1</td>\n",
              "      <td>0.1</td>\n",
              "    </tr>\n",
              "    <tr>\n",
              "      <th>50%</th>\n",
              "      <td>0.4</td>\n",
              "      <td>0.4</td>\n",
              "      <td>0.6</td>\n",
              "      <td>0.5</td>\n",
              "    </tr>\n",
              "    <tr>\n",
              "      <th>75%</th>\n",
              "      <td>0.6</td>\n",
              "      <td>0.5</td>\n",
              "      <td>0.7</td>\n",
              "      <td>0.7</td>\n",
              "    </tr>\n",
              "    <tr>\n",
              "      <th>max</th>\n",
              "      <td>0.9</td>\n",
              "      <td>0.8</td>\n",
              "      <td>1.0</td>\n",
              "      <td>1.0</td>\n",
              "    </tr>\n",
              "  </tbody>\n",
              "</table>\n",
              "</div>"
            ],
            "text/plain": [
              "       sepal_length  sepal_width  petal_length  petal_width\n",
              "count          30.0         30.0          30.0         30.0\n",
              "mean            0.4          0.4           0.5          0.5\n",
              "std             0.2          0.1           0.3          0.3\n",
              "min             0.0          0.1           0.0          0.0\n",
              "25%             0.2          0.3           0.1          0.1\n",
              "50%             0.4          0.4           0.6          0.5\n",
              "75%             0.6          0.5           0.7          0.7\n",
              "max             0.9          0.8           1.0          1.0"
            ]
          },
          "metadata": {
            "tags": []
          },
          "execution_count": 9
        }
      ]
    },
    {
      "cell_type": "markdown",
      "metadata": {
        "id": "knuLciOHQCVI",
        "colab_type": "text"
      },
      "source": [
        "5. Utilice la función parse_labels_and_features(dataset), para crear el conjunto de prueba, con sus respectivas etiquetas y ejemplos.\n",
        "\n",
        "6. Muestre un sumario para observar la cantidad de ejemplos de prueba.\n"
      ]
    },
    {
      "cell_type": "code",
      "metadata": {
        "id": "2SdJ7OOyCjgw",
        "colab_type": "code",
        "outputId": "d883dc26-3b79-40ba-a095-6ec337b35fd3",
        "colab": {
          "base_uri": "https://localhost:8080/",
          "height": 297
        }
      },
      "source": [
        "test_targets, test_examples = parse_labels_and_features(iris_dataframe[120:150])\n",
        "test_examples.describe()"
      ],
      "execution_count": 0,
      "outputs": [
        {
          "output_type": "execute_result",
          "data": {
            "text/html": [
              "<div>\n",
              "<style scoped>\n",
              "    .dataframe tbody tr th:only-of-type {\n",
              "        vertical-align: middle;\n",
              "    }\n",
              "\n",
              "    .dataframe tbody tr th {\n",
              "        vertical-align: top;\n",
              "    }\n",
              "\n",
              "    .dataframe thead th {\n",
              "        text-align: right;\n",
              "    }\n",
              "</style>\n",
              "<table border=\"1\" class=\"dataframe\">\n",
              "  <thead>\n",
              "    <tr style=\"text-align: right;\">\n",
              "      <th></th>\n",
              "      <th>sepal_length</th>\n",
              "      <th>sepal_width</th>\n",
              "      <th>petal_length</th>\n",
              "      <th>petal_width</th>\n",
              "    </tr>\n",
              "  </thead>\n",
              "  <tbody>\n",
              "    <tr>\n",
              "      <th>count</th>\n",
              "      <td>30.0</td>\n",
              "      <td>30.0</td>\n",
              "      <td>30.0</td>\n",
              "      <td>30.0</td>\n",
              "    </tr>\n",
              "    <tr>\n",
              "      <th>mean</th>\n",
              "      <td>0.4</td>\n",
              "      <td>0.4</td>\n",
              "      <td>0.5</td>\n",
              "      <td>0.4</td>\n",
              "    </tr>\n",
              "    <tr>\n",
              "      <th>std</th>\n",
              "      <td>0.2</td>\n",
              "      <td>0.2</td>\n",
              "      <td>0.3</td>\n",
              "      <td>0.3</td>\n",
              "    </tr>\n",
              "    <tr>\n",
              "      <th>min</th>\n",
              "      <td>0.1</td>\n",
              "      <td>0.1</td>\n",
              "      <td>0.0</td>\n",
              "      <td>0.0</td>\n",
              "    </tr>\n",
              "    <tr>\n",
              "      <th>25%</th>\n",
              "      <td>0.2</td>\n",
              "      <td>0.3</td>\n",
              "      <td>0.1</td>\n",
              "      <td>0.1</td>\n",
              "    </tr>\n",
              "    <tr>\n",
              "      <th>50%</th>\n",
              "      <td>0.4</td>\n",
              "      <td>0.4</td>\n",
              "      <td>0.6</td>\n",
              "      <td>0.5</td>\n",
              "    </tr>\n",
              "    <tr>\n",
              "      <th>75%</th>\n",
              "      <td>0.6</td>\n",
              "      <td>0.6</td>\n",
              "      <td>0.7</td>\n",
              "      <td>0.7</td>\n",
              "    </tr>\n",
              "    <tr>\n",
              "      <th>max</th>\n",
              "      <td>1.0</td>\n",
              "      <td>0.7</td>\n",
              "      <td>0.9</td>\n",
              "      <td>1.0</td>\n",
              "    </tr>\n",
              "  </tbody>\n",
              "</table>\n",
              "</div>"
            ],
            "text/plain": [
              "       sepal_length  sepal_width  petal_length  petal_width\n",
              "count          30.0         30.0          30.0         30.0\n",
              "mean            0.4          0.4           0.5          0.4\n",
              "std             0.2          0.2           0.3          0.3\n",
              "min             0.1          0.1           0.0          0.0\n",
              "25%             0.2          0.3           0.1          0.1\n",
              "50%             0.4          0.4           0.6          0.5\n",
              "75%             0.6          0.6           0.7          0.7\n",
              "max             1.0          0.7           0.9          1.0"
            ]
          },
          "metadata": {
            "tags": []
          },
          "execution_count": 10
        }
      ]
    },
    {
      "cell_type": "markdown",
      "metadata": {
        "id": "hGxLwATLQZLj",
        "colab_type": "text"
      },
      "source": [
        "## Feature columns\n",
        "\n",
        "Tensorflow necesita que indiquemos el tipo de feature que utilizaremos, en este ejercicio nuestras features serán de tipo numérico.\n",
        "\n",
        "1. Complete el código para que la función devuelva un set con todas las features de entrada como tipo numérico. https://www.tensorflow.org/api_docs/python/tf/feature_column/numeric_column\n"
      ]
    },
    {
      "cell_type": "code",
      "metadata": {
        "id": "8VXsZmvAY3TA",
        "colab_type": "code",
        "colab": {}
      },
      "source": [
        "def construct_feature_columns(input_features):\n",
        "  \"\"\"Construct the TensorFlow Feature Columns.\n",
        "\n",
        "  Args:\n",
        "    input_features: The names of the numerical input features to use.\n",
        "  Returns:\n",
        "    A set of feature columns\n",
        "  \"\"\" \n",
        "  return set([tf.feature_column.numeric_column(my_feature)\n",
        "              for my_feature in input_features])"
      ],
      "execution_count": 0,
      "outputs": []
    },
    {
      "cell_type": "markdown",
      "metadata": {
        "id": "OINzym3WQ4Rq",
        "colab_type": "text"
      },
      "source": [
        "## Input function\n",
        "\n",
        "\n",
        "1. Complete el código para crear los batch del tamaño batch_size\n",
        "Complete el código para que los datos sean repetidos al pasar un determinado número de epochs num_epochs\n",
        "2. Complete el código para que pueda existir aleatorización al crear los batch si la variable shuffle es true\n",
        "3. Complete el código para devolver el siguiente batch\n",
        "\n",
        "https://www.tensorflow.org/api_docs/python/tf/data/Dataset\n"
      ]
    },
    {
      "cell_type": "code",
      "metadata": {
        "id": "c3cDDZH6zVgd",
        "colab_type": "code",
        "colab": {}
      },
      "source": [
        "def my_input_fn(features, targets, batch_size=1, shuffle=True, num_epochs=None):\n",
        "    \"\"\"Trains a neural network model.\n",
        "  \n",
        "    Args:\n",
        "      features: pandas DataFrame of features\n",
        "      targets: pandas DataFrame of targets\n",
        "      batch_size: Size of batches to be passed to the model\n",
        "      shuffle: True or False. Whether to shuffle the data.\n",
        "      num_epochs: Number of epochs for which data should be repeated. None = repeat indefinitely\n",
        "    Returns:\n",
        "      Tuple of (features, labels) for next data batch\n",
        "    \"\"\"\n",
        "    \n",
        "    # Convert pandas data into a dict of np arrays.\n",
        "    features = {key:np.array(value) for key,value in dict(features).items()}                                           \n",
        " \n",
        "    # Construct a dataset, and configure batching/repeating.\n",
        "    ds = Dataset.from_tensor_slices((features,targets)) # warning: 2GB limit\n",
        "    ds = ds.batch(batch_size).repeat(num_epochs)\n",
        "    \n",
        "    # Shuffle the data, if specified.\n",
        "    if shuffle:\n",
        "      ds = ds.shuffle(150)\n",
        "    \n",
        "    # Return the next batch of data.\n",
        "    features, labels = ds.make_one_shot_iterator().get_next()\n",
        "    return features, labels"
      ],
      "execution_count": 0,
      "outputs": []
    },
    {
      "cell_type": "code",
      "metadata": {
        "id": "bRoehLSAEWP_",
        "colab_type": "code",
        "colab": {}
      },
      "source": [
        "def train_nn_classification_model(\n",
        "    learning_rate,\n",
        "    steps,\n",
        "    batch_size,\n",
        "    hidden_units,\n",
        "    training_examples,\n",
        "    training_targets,\n",
        "    validation_examples,\n",
        "    validation_targets):\n",
        "  \"\"\"Trains a neural network classification model for the Iris dataset.\n",
        "  \n",
        "  In addition to training, this function also prints training progress information,\n",
        "  a plot of the training and validation loss over time, as well as a confusion\n",
        "  matrix.\n",
        "  \n",
        "  Args:\n",
        "    learning_rate: A `float`, the learning rate to use.\n",
        "    steps: A non-zero `int`, the total number of training steps. A training step\n",
        "      consists of a forward and backward pass using a single batch.\n",
        "    batch_size: A non-zero `int`, the batch size.\n",
        "    hidden_units: A `list` of int values, specifying the number of neurons in each layer.\n",
        "    training_examples: A `DataFrame` containing the training features.\n",
        "    training_targets: A `DataFrame` containing the training labels.\n",
        "    validation_examples: A `DataFrame` containing the validation features.\n",
        "    validation_targets: A `DataFrame` containing the validation labels.\n",
        "      \n",
        "  Returns:\n",
        "    The trained `DNNClassifier` object.\n",
        "  \"\"\"\n",
        "\n",
        "  periods = 10\n",
        "  # Caution: input pipelines are reset with each call to train. \n",
        "  # If the number of steps is small, your model may never see most of the data.  \n",
        "  # So with multiple `.train` calls like this you may want to control the length \n",
        "  # of training with num_epochs passed to the input_fn. Or, you can do a really-big shuffle, \n",
        "  # or since it's in-memory data, shuffle all the data in the `input_fn`.\n",
        "  steps_per_period = steps / periods\n",
        "  \n",
        "  \n",
        "  # Create the input functions.\n",
        "  predict_training_input_fn = lambda: my_input_fn(training_examples, training_targets, batch_size,shuffle=False,num_epochs=1)\n",
        "  predict_validation_input_fn = lambda: my_input_fn(validation_examples, validation_targets, batch_size,shuffle=False,num_epochs=1)\n",
        "  \n",
        "  training_input_fn = lambda: my_input_fn(training_examples, training_targets, batch_size)\n",
        "  \n",
        "  \n",
        "  \n",
        "  # Create a DNNClassifier object.\n",
        "  my_optimizer = tf.train.AdagradOptimizer(learning_rate=learning_rate)\n",
        "  my_optimizer = tf.contrib.estimator.clip_gradients_by_norm(my_optimizer, 5.0)\n",
        "  \n",
        "  classifier = tf.estimator.DNNClassifier(\n",
        "      feature_columns=construct_feature_columns(training_examples),\n",
        "      n_classes=3,\n",
        "      hidden_units=hidden_units,\n",
        "      optimizer=my_optimizer\n",
        "  )\n",
        "\n",
        "  # Train the model, but do so inside a loop so that we can periodically assess\n",
        "  # loss metrics.\n",
        "  print(\"Training model...\")\n",
        "  print(\"LogLoss error (on validation data):\")\n",
        "  training_log_losses = []\n",
        "  validation_log_losses = []\n",
        "  \n",
        "  for period in range (0, periods):\n",
        "    # Train the model, starting from the prior state.\n",
        "    classifier.train(\n",
        "        input_fn=training_input_fn,\n",
        "        steps=steps_per_period\n",
        "      \n",
        "    )\n",
        "  \n",
        "    # Take a break and compute probabilities.\n",
        "    training_predictions = list(classifier.predict(input_fn=predict_training_input_fn))\n",
        "    training_probabilities = np.array([item['probabilities'] for item in training_predictions])\n",
        "    training_pred_class_id = np.array([item['class_ids'][0] for item in training_predictions])\n",
        "    \n",
        "    #training_pred_one_hot = tf.keras.utils.to_categorical(training_pred_class_id,3)\n",
        "    \n",
        "        \n",
        "    validation_predictions = list(classifier.predict(input_fn=predict_validation_input_fn))\n",
        "    validation_probabilities = np.array([item['probabilities'] for item in validation_predictions])    \n",
        "    validation_pred_class_id = np.array([item['class_ids'][0] for item in validation_predictions])\n",
        "    \n",
        "    #validation_pred_one_hot = tf.keras.utils.to_categorical(validation_pred_class_id,3)\n",
        "    \n",
        "    \n",
        "    training_log_loss = metrics.log_loss(training_targets, training_probabilities)\n",
        "    validation_log_loss = metrics.log_loss(validation_targets, validation_probabilities)\n",
        "    \n",
        "    \n",
        "    \n",
        "    # Compute training and validation errors.\n",
        "    #training_log_loss = metrics.log_loss(training_targets, training_pred_one_hot)\n",
        "    #validation_log_loss = metrics.log_loss(validation_targets, validation_pred_one_hot)\n",
        "    # Occasionally print the current loss.\n",
        "    print(\"  period %02d : %0.2f\" % (period, validation_log_loss))\n",
        "    # Add the loss metrics from this period to our list.\n",
        "    training_log_losses.append(training_log_loss)\n",
        "    validation_log_losses.append(validation_log_loss)\n",
        "  \n",
        "  print(\"Model training finished.\")\n",
        "  # Remove event files to save disk space.\n",
        "  #_ = map(os.remove, glob.glob(os.path.join(classifier.model_dir, 'events.out.tfevents*')))\n",
        "  \n",
        "  # Calculate final predictions and probabilities  \n",
        "  \n",
        "  final_predictions = list(classifier.predict(input_fn=predict_validation_input_fn))\n",
        "  final_probabilities = np.array([item['probabilities'] for item in final_predictions])\n",
        "  final_predictions_class_id = np.array([item['class_ids'][0] for item in final_predictions]) \n",
        " \n",
        "  \n",
        "  accuracy = metrics.accuracy_score(validation_targets, final_predictions_class_id)\n",
        "  print(\"Final accuracy (on validation data): %0.4f\" % accuracy)\n",
        "\n",
        "  # Output a graph of loss metrics over periods.\n",
        "  plt.ylabel(\"LogLoss\")\n",
        "  plt.xlabel(\"Periods\")\n",
        "  plt.title(\"LogLoss vs. Periods\")\n",
        "  plt.plot(training_log_losses, label=\"training\")\n",
        "  plt.plot(validation_log_losses, label=\"validation\")\n",
        "  plt.legend()\n",
        "  plt.show()\n",
        "  \n",
        "\n",
        "  #validation_targets_decoded = label_encoder.inverse_transform(validation_targets)\n",
        "  #final_predictions_decoded =  label_encoder.inverse_transform(final_predictions_class_id)\n",
        "   \n",
        "  #print(validation_targets_decoded[:5])\n",
        "  #print(final_predictions_decoded[:5])\n",
        "  \n",
        "  \n",
        "  # Output a plot of the confusion matrix.\n",
        "  cm = metrics.confusion_matrix(validation_targets, final_predictions_class_id)\n",
        "  # Normalize the confusion matrix by row (i.e by the number of samples\n",
        "  # in each class).\n",
        "  cm_normalized = cm.astype(\"float\") / cm.sum(axis=1)[:, np.newaxis]\n",
        "  ax = sns.heatmap(cm_normalized, cmap=\"bone_r\",xticklabels=label_encoder.classes_, yticklabels=label_encoder.classes_)\n",
        "  ax.set_aspect(1)\n",
        "  plt.title(\"Confusion matrix\")\n",
        "  plt.ylabel(\"True label\")\n",
        "  plt.xlabel(\"Predicted label\")\n",
        "  plt.show()\n",
        "\n",
        "  return classifier"
      ],
      "execution_count": 0,
      "outputs": []
    },
    {
      "cell_type": "markdown",
      "metadata": {
        "id": "qou-_kfnSUv6",
        "colab_type": "text"
      },
      "source": [
        "## Entrene el clasificador\n",
        "\n",
        "Entrene el clasificador enviando los parámetros correspondientes a train_nn_classification_model. Recuerde que aquí puede colocar los hiperparametros que usted desee, debe encontrar los hiperparametros adecuados para lograr un buen accuracy en el test de validación, pero sin tener overfitting.\n"
      ]
    },
    {
      "cell_type": "code",
      "metadata": {
        "id": "sm1NGRHNHzaL",
        "colab_type": "code",
        "outputId": "91d40109-d158-4a92-8437-e6f46957d0ef",
        "colab": {
          "base_uri": "https://localhost:8080/",
          "height": 811
        }
      },
      "source": [
        "classifier = train_nn_classification_model(\n",
        "    learning_rate=0.001,\n",
        "    steps=2000,\n",
        "    batch_size=15,\n",
        "    hidden_units=[512, 256],\n",
        "    training_examples=training_examples,\n",
        "    training_targets=training_targets,\n",
        "    validation_examples=validation_examples,\n",
        "    validation_targets=validation_targets)"
      ],
      "execution_count": 0,
      "outputs": [
        {
          "output_type": "stream",
          "text": [
            "Training model...\n",
            "LogLoss error (on validation data):\n",
            "  period 00 : 0.74\n",
            "  period 01 : 0.54\n",
            "  period 02 : 0.43\n",
            "  period 03 : 0.36\n",
            "  period 04 : 0.31\n",
            "  period 05 : 0.27\n",
            "  period 06 : 0.23\n",
            "  period 07 : 0.21\n",
            "  period 08 : 0.19\n",
            "  period 09 : 0.17\n",
            "Model training finished.\n",
            "Final accuracy (on validation data): 0.9333\n"
          ],
          "name": "stdout"
        },
        {
          "output_type": "display_data",
          "data": {
            "image/png": "[encoded data removed]",
            "text/plain": [
              "<Figure size 432x288 with 1 Axes>"
            ]
          },
          "metadata": {
            "tags": []
          }
        },
        {
          "output_type": "display_data",
          "data": {
            "image/png": "[encoded data removed]",
            "text/plain": [
              "<Figure size 432x288 with 2 Axes>"
            ]
          },
          "metadata": {
            "tags": []
          }
        }
      ]
    },
    {
      "cell_type": "markdown",
      "metadata": {
        "id": "q89z1hy5TJke",
        "colab_type": "text"
      },
      "source": [
        "## Verificación en el conjunto de prueba\n",
        "\n",
        "Verifique el accuracy en su test de prueba, recuerde que debe crear una función de entrada que no aleatoriza los batch y que solamente recorre los datos 1 época.\n",
        "\n",
        "para medir el accuracy utilice https://scikit-learn.org/stable/modules/generated/sklearn.metrics.accuracy_score.html\n"
      ]
    },
    {
      "cell_type": "code",
      "metadata": {
        "id": "1Dmu1yeRuK7h",
        "colab_type": "code",
        "outputId": "cc04c5de-9eaf-4e46-a1dd-4b2436372a4b",
        "colab": {
          "base_uri": "https://localhost:8080/",
          "height": 34
        }
      },
      "source": [
        "batch_size = 15\n",
        "predict_test_input_fn = lambda: my_input_fn(test_examples, test_targets, batch_size,shuffle=False,num_epochs=1)\n",
        " \n",
        "\n",
        "test_predictions = list(classifier.predict(input_fn=predict_test_input_fn))\n",
        "test_predictions_class_id = np.array([item['class_ids'][0] for item in test_predictions])\n",
        "test_predictions_probabilities = np.array([item['probabilities'] for item in test_predictions])\n",
        "  \n",
        "accuracy = metrics.accuracy_score(test_targets, test_predictions_class_id)\n",
        "print(\"Accuracy on test data: %0.4f\" % accuracy)\n",
        "\n"
      ],
      "execution_count": 0,
      "outputs": [
        {
          "output_type": "stream",
          "text": [
            "Accuracy on test data: 0.9333\n"
          ],
          "name": "stdout"
        }
      ]
    },
    {
      "cell_type": "code",
      "metadata": {
        "id": "u6t80B69v1Bh",
        "colab_type": "code",
        "outputId": "a6d13a1b-e31f-4b55-d494-8e8681eb2bbb",
        "colab": {
          "base_uri": "https://localhost:8080/",
          "height": 419
        }
      },
      "source": [
        "test_targets_decoded = label_encoder.inverse_transform(test_targets)\n",
        "test_predictions_decoded =  label_encoder.inverse_transform(test_predictions_class_id)\n",
        "\n",
        "\n",
        "results_dataframe = pd.DataFrame()\n",
        "results_dataframe['true_label'] = test_targets_decoded\n",
        "results_dataframe['predicted_label'] = test_predictions_decoded\n",
        "\n",
        "results_dataframe.head(30)\n",
        "  "
      ],
      "execution_count": 0,
      "outputs": [
        {
          "output_type": "execute_result",
          "data": {
            "text/html": [
              "<div>\n",
              "<style scoped>\n",
              "    .dataframe tbody tr th:only-of-type {\n",
              "        vertical-align: middle;\n",
              "    }\n",
              "\n",
              "    .dataframe tbody tr th {\n",
              "        vertical-align: top;\n",
              "    }\n",
              "\n",
              "    .dataframe thead th {\n",
              "        text-align: right;\n",
              "    }\n",
              "</style>\n",
              "<table border=\"1\" class=\"dataframe\">\n",
              "  <thead>\n",
              "    <tr style=\"text-align: right;\">\n",
              "      <th></th>\n",
              "      <th>true_label</th>\n",
              "      <th>predicted_label</th>\n",
              "    </tr>\n",
              "  </thead>\n",
              "  <tbody>\n",
              "    <tr>\n",
              "      <th>0</th>\n",
              "      <td>Iris-versicolor</td>\n",
              "      <td>Iris-virginica</td>\n",
              "    </tr>\n",
              "    <tr>\n",
              "      <th>1</th>\n",
              "      <td>Iris-setosa</td>\n",
              "      <td>Iris-setosa</td>\n",
              "    </tr>\n",
              "    <tr>\n",
              "      <th>2</th>\n",
              "      <td>Iris-setosa</td>\n",
              "      <td>Iris-setosa</td>\n",
              "    </tr>\n",
              "    <tr>\n",
              "      <th>3</th>\n",
              "      <td>Iris-versicolor</td>\n",
              "      <td>Iris-versicolor</td>\n",
              "    </tr>\n",
              "    <tr>\n",
              "      <th>4</th>\n",
              "      <td>Iris-setosa</td>\n",
              "      <td>Iris-setosa</td>\n",
              "    </tr>\n",
              "    <tr>\n",
              "      <th>...</th>\n",
              "      <td>...</td>\n",
              "      <td>...</td>\n",
              "    </tr>\n",
              "    <tr>\n",
              "      <th>25</th>\n",
              "      <td>Iris-virginica</td>\n",
              "      <td>Iris-virginica</td>\n",
              "    </tr>\n",
              "    <tr>\n",
              "      <th>26</th>\n",
              "      <td>Iris-setosa</td>\n",
              "      <td>Iris-setosa</td>\n",
              "    </tr>\n",
              "    <tr>\n",
              "      <th>27</th>\n",
              "      <td>Iris-versicolor</td>\n",
              "      <td>Iris-versicolor</td>\n",
              "    </tr>\n",
              "    <tr>\n",
              "      <th>28</th>\n",
              "      <td>Iris-virginica</td>\n",
              "      <td>Iris-virginica</td>\n",
              "    </tr>\n",
              "    <tr>\n",
              "      <th>29</th>\n",
              "      <td>Iris-virginica</td>\n",
              "      <td>Iris-virginica</td>\n",
              "    </tr>\n",
              "  </tbody>\n",
              "</table>\n",
              "<p>30 rows × 2 columns</p>\n",
              "</div>"
            ],
            "text/plain": [
              "         true_label  predicted_label\n",
              "0   Iris-versicolor   Iris-virginica\n",
              "1       Iris-setosa      Iris-setosa\n",
              "2       Iris-setosa      Iris-setosa\n",
              "3   Iris-versicolor  Iris-versicolor\n",
              "4       Iris-setosa      Iris-setosa\n",
              "..              ...              ...\n",
              "25   Iris-virginica   Iris-virginica\n",
              "26      Iris-setosa      Iris-setosa\n",
              "27  Iris-versicolor  Iris-versicolor\n",
              "28   Iris-virginica   Iris-virginica\n",
              "29   Iris-virginica   Iris-virginica\n",
              "\n",
              "[30 rows x 2 columns]"
            ]
          },
          "metadata": {
            "tags": []
          },
          "execution_count": 16
        }
      ]
    },
    {
      "cell_type": "code",
      "metadata": {
        "id": "QtxXaBj_g2Qw",
        "colab_type": "code",
        "colab": {}
      },
      "source": [
        "def show_probabilities_graph(class_ids,probs,true_label):\n",
        "  plt.rcdefaults()\n",
        "  fig, ax = plt.subplots()\n",
        "\n",
        "  y_pos = np.arange(len(class_ids))\n",
        "\n",
        "\n",
        "  ax.barh(y_pos, probs, align='center', color='green', ecolor='black')\n",
        "  ax.set_yticks(y_pos)\n",
        "  ax.set_yticklabels(class_ids)\n",
        "  ax.invert_yaxis()  # labels read top-to-bottom\n",
        "  ax.set_xlabel('Prob')\n",
        "  ax.set_title('True label: '+true_label)\n",
        "\n",
        "  plt.show()"
      ],
      "execution_count": 0,
      "outputs": []
    },
    {
      "cell_type": "code",
      "metadata": {
        "id": "D6gAXBK_yZMc",
        "colab_type": "code",
        "outputId": "715f944e-0270-4977-ceef-287bfb2c1608",
        "colab": {
          "base_uri": "https://localhost:8080/",
          "height": 472
        }
      },
      "source": [
        "import random\n",
        "i = random.randint(0,test_targets.size-1)\n",
        "\n",
        "show_probabilities_graph(label_encoder.classes_,test_predictions_probabilities[i],str(test_targets_decoded[i]))\n"
      ],
      "execution_count": 0,
      "outputs": [
        {
          "output_type": "display_data",
          "data": {
            "image/png": "[encoded data removed]",
            "text/plain": [
              "<Figure size 640x480 with 1 Axes>"
            ]
          },
          "metadata": {
            "tags": []
          }
        }
      ]
    }
  ]
}